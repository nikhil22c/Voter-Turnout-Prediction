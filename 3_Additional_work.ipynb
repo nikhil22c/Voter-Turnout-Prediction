{
 "cells": [
  {
   "cell_type": "code",
   "execution_count": 1,
   "id": "42cdc89a",
   "metadata": {},
   "outputs": [],
   "source": [
    "#imports\n",
    "import pandas as pd\n",
    "import matplotlib.pyplot as plt\n",
    "import seaborn as sns\n",
    "import numpy as np\n",
    "import sklearn\n",
    "from sklearn.preprocessing import StandardScaler\n",
    "from matplotlib.pyplot import figure\n",
    "from sklearn.model_selection import train_test_split\n",
    "from tabulate import tabulate"
   ]
  },
  {
   "cell_type": "code",
   "execution_count": 2,
   "id": "509fca7c",
   "metadata": {},
   "outputs": [],
   "source": [
    "#Reading csv file into a DataFrame\n",
    "df = pd.read_csv(\"cleaned_data.csv\")"
   ]
  },
  {
   "cell_type": "code",
   "execution_count": 3,
   "id": "b012837d",
   "metadata": {},
   "outputs": [
    {
     "data": {
      "text/html": [
       "<div>\n",
       "<style scoped>\n",
       "    .dataframe tbody tr th:only-of-type {\n",
       "        vertical-align: middle;\n",
       "    }\n",
       "\n",
       "    .dataframe tbody tr th {\n",
       "        vertical-align: top;\n",
       "    }\n",
       "\n",
       "    .dataframe thead th {\n",
       "        text-align: right;\n",
       "    }\n",
       "</style>\n",
       "<table border=\"1\" class=\"dataframe\">\n",
       "  <thead>\n",
       "    <tr style=\"text-align: right;\">\n",
       "      <th></th>\n",
       "      <th>optimus_id</th>\n",
       "      <th>age</th>\n",
       "      <th>party</th>\n",
       "      <th>ethnicity</th>\n",
       "      <th>income</th>\n",
       "      <th>cd</th>\n",
       "      <th>dma</th>\n",
       "      <th>vh14p</th>\n",
       "      <th>vh12g</th>\n",
       "      <th>vh12p</th>\n",
       "      <th>...</th>\n",
       "      <th>vh08p</th>\n",
       "      <th>vh06g</th>\n",
       "      <th>vh06p</th>\n",
       "      <th>vh04g</th>\n",
       "      <th>vh04p</th>\n",
       "      <th>vh02g</th>\n",
       "      <th>vh02p</th>\n",
       "      <th>vh00g</th>\n",
       "      <th>vh00p</th>\n",
       "      <th>g08_precinct_turnout</th>\n",
       "    </tr>\n",
       "  </thead>\n",
       "  <tbody>\n",
       "    <tr>\n",
       "      <th>0</th>\n",
       "      <td>861681</td>\n",
       "      <td>69</td>\n",
       "      <td>2</td>\n",
       "      <td>1</td>\n",
       "      <td>3</td>\n",
       "      <td>4</td>\n",
       "      <td>1</td>\n",
       "      <td>0</td>\n",
       "      <td>0</td>\n",
       "      <td>0</td>\n",
       "      <td>...</td>\n",
       "      <td>0</td>\n",
       "      <td>1</td>\n",
       "      <td>0</td>\n",
       "      <td>1</td>\n",
       "      <td>0</td>\n",
       "      <td>1</td>\n",
       "      <td>0</td>\n",
       "      <td>1</td>\n",
       "      <td>0</td>\n",
       "      <td>0.56</td>\n",
       "    </tr>\n",
       "    <tr>\n",
       "      <th>1</th>\n",
       "      <td>1084850</td>\n",
       "      <td>20</td>\n",
       "      <td>4</td>\n",
       "      <td>1</td>\n",
       "      <td>0</td>\n",
       "      <td>2</td>\n",
       "      <td>2</td>\n",
       "      <td>0</td>\n",
       "      <td>0</td>\n",
       "      <td>0</td>\n",
       "      <td>...</td>\n",
       "      <td>0</td>\n",
       "      <td>0</td>\n",
       "      <td>0</td>\n",
       "      <td>0</td>\n",
       "      <td>0</td>\n",
       "      <td>0</td>\n",
       "      <td>0</td>\n",
       "      <td>0</td>\n",
       "      <td>0</td>\n",
       "      <td>0.84</td>\n",
       "    </tr>\n",
       "    <tr>\n",
       "      <th>2</th>\n",
       "      <td>644435</td>\n",
       "      <td>28</td>\n",
       "      <td>3</td>\n",
       "      <td>1</td>\n",
       "      <td>0</td>\n",
       "      <td>3</td>\n",
       "      <td>1</td>\n",
       "      <td>0</td>\n",
       "      <td>0</td>\n",
       "      <td>0</td>\n",
       "      <td>...</td>\n",
       "      <td>0</td>\n",
       "      <td>1</td>\n",
       "      <td>0</td>\n",
       "      <td>1</td>\n",
       "      <td>0</td>\n",
       "      <td>0</td>\n",
       "      <td>0</td>\n",
       "      <td>0</td>\n",
       "      <td>0</td>\n",
       "      <td>0.49</td>\n",
       "    </tr>\n",
       "    <tr>\n",
       "      <th>3</th>\n",
       "      <td>57683</td>\n",
       "      <td>78</td>\n",
       "      <td>4</td>\n",
       "      <td>1</td>\n",
       "      <td>0</td>\n",
       "      <td>3</td>\n",
       "      <td>1</td>\n",
       "      <td>0</td>\n",
       "      <td>0</td>\n",
       "      <td>0</td>\n",
       "      <td>...</td>\n",
       "      <td>0</td>\n",
       "      <td>0</td>\n",
       "      <td>0</td>\n",
       "      <td>0</td>\n",
       "      <td>0</td>\n",
       "      <td>0</td>\n",
       "      <td>0</td>\n",
       "      <td>0</td>\n",
       "      <td>0</td>\n",
       "      <td>0.84</td>\n",
       "    </tr>\n",
       "    <tr>\n",
       "      <th>4</th>\n",
       "      <td>167371</td>\n",
       "      <td>68</td>\n",
       "      <td>1</td>\n",
       "      <td>1</td>\n",
       "      <td>0</td>\n",
       "      <td>4</td>\n",
       "      <td>1</td>\n",
       "      <td>0</td>\n",
       "      <td>0</td>\n",
       "      <td>0</td>\n",
       "      <td>...</td>\n",
       "      <td>1</td>\n",
       "      <td>1</td>\n",
       "      <td>1</td>\n",
       "      <td>1</td>\n",
       "      <td>1</td>\n",
       "      <td>1</td>\n",
       "      <td>1</td>\n",
       "      <td>1</td>\n",
       "      <td>1</td>\n",
       "      <td>0.71</td>\n",
       "    </tr>\n",
       "  </tbody>\n",
       "</table>\n",
       "<p>5 rows × 23 columns</p>\n",
       "</div>"
      ],
      "text/plain": [
       "   optimus_id  age  party  ethnicity  income  cd  dma  vh14p  vh12g  vh12p  \\\n",
       "0      861681   69      2          1       3   4    1      0      0      0   \n",
       "1     1084850   20      4          1       0   2    2      0      0      0   \n",
       "2      644435   28      3          1       0   3    1      0      0      0   \n",
       "3       57683   78      4          1       0   3    1      0      0      0   \n",
       "4      167371   68      1          1       0   4    1      0      0      0   \n",
       "\n",
       "   ...  vh08p  vh06g  vh06p  vh04g  vh04p  vh02g  vh02p  vh00g  vh00p  \\\n",
       "0  ...      0      1      0      1      0      1      0      1      0   \n",
       "1  ...      0      0      0      0      0      0      0      0      0   \n",
       "2  ...      0      1      0      1      0      0      0      0      0   \n",
       "3  ...      0      0      0      0      0      0      0      0      0   \n",
       "4  ...      1      1      1      1      1      1      1      1      1   \n",
       "\n",
       "   g08_precinct_turnout  \n",
       "0                  0.56  \n",
       "1                  0.84  \n",
       "2                  0.49  \n",
       "3                  0.84  \n",
       "4                  0.71  \n",
       "\n",
       "[5 rows x 23 columns]"
      ]
     },
     "execution_count": 3,
     "metadata": {},
     "output_type": "execute_result"
    }
   ],
   "source": [
    "df.head()"
   ]
  },
  {
   "cell_type": "code",
   "execution_count": 4,
   "id": "e411849d",
   "metadata": {},
   "outputs": [
    {
     "data": {
      "text/plain": [
       "(49995, 23)"
      ]
     },
     "execution_count": 4,
     "metadata": {},
     "output_type": "execute_result"
    }
   ],
   "source": [
    "df.shape"
   ]
  },
  {
   "cell_type": "code",
   "execution_count": 5,
   "id": "9f075b59",
   "metadata": {},
   "outputs": [
    {
     "data": {
      "text/plain": [
       "0    45621\n",
       "1     4374\n",
       "Name: vh14p, dtype: int64"
      ]
     },
     "execution_count": 5,
     "metadata": {},
     "output_type": "execute_result"
    }
   ],
   "source": [
    "df['vh14p'].value_counts()"
   ]
  },
  {
   "cell_type": "code",
   "execution_count": 6,
   "id": "e479e82e",
   "metadata": {},
   "outputs": [],
   "source": [
    "df_0 = df[df['vh14p'] == 0][:5000]\n",
    "df_1 = df[df['vh14p'] == 1][:5000]"
   ]
  },
  {
   "cell_type": "code",
   "execution_count": 7,
   "id": "fd6cc1dd",
   "metadata": {},
   "outputs": [
    {
     "data": {
      "text/plain": [
       "(0    5000\n",
       " Name: vh14p, dtype: int64,\n",
       " 1    4374\n",
       " Name: vh14p, dtype: int64)"
      ]
     },
     "execution_count": 7,
     "metadata": {},
     "output_type": "execute_result"
    }
   ],
   "source": [
    "df_0.vh14p.value_counts(), df_1.vh14p.value_counts()"
   ]
  },
  {
   "cell_type": "code",
   "execution_count": 8,
   "id": "6623963c",
   "metadata": {},
   "outputs": [],
   "source": [
    "data_mix = pd.concat([df_0, df_1])"
   ]
  },
  {
   "cell_type": "code",
   "execution_count": 9,
   "id": "80292b2b",
   "metadata": {},
   "outputs": [
    {
     "data": {
      "text/html": [
       "<div>\n",
       "<style scoped>\n",
       "    .dataframe tbody tr th:only-of-type {\n",
       "        vertical-align: middle;\n",
       "    }\n",
       "\n",
       "    .dataframe tbody tr th {\n",
       "        vertical-align: top;\n",
       "    }\n",
       "\n",
       "    .dataframe thead th {\n",
       "        text-align: right;\n",
       "    }\n",
       "</style>\n",
       "<table border=\"1\" class=\"dataframe\">\n",
       "  <thead>\n",
       "    <tr style=\"text-align: right;\">\n",
       "      <th></th>\n",
       "      <th>optimus_id</th>\n",
       "      <th>age</th>\n",
       "      <th>party</th>\n",
       "      <th>ethnicity</th>\n",
       "      <th>income</th>\n",
       "      <th>cd</th>\n",
       "      <th>dma</th>\n",
       "      <th>vh14p</th>\n",
       "      <th>vh12g</th>\n",
       "      <th>vh12p</th>\n",
       "      <th>...</th>\n",
       "      <th>vh08p</th>\n",
       "      <th>vh06g</th>\n",
       "      <th>vh06p</th>\n",
       "      <th>vh04g</th>\n",
       "      <th>vh04p</th>\n",
       "      <th>vh02g</th>\n",
       "      <th>vh02p</th>\n",
       "      <th>vh00g</th>\n",
       "      <th>vh00p</th>\n",
       "      <th>g08_precinct_turnout</th>\n",
       "    </tr>\n",
       "  </thead>\n",
       "  <tbody>\n",
       "    <tr>\n",
       "      <th>0</th>\n",
       "      <td>861681</td>\n",
       "      <td>69</td>\n",
       "      <td>2</td>\n",
       "      <td>1</td>\n",
       "      <td>3</td>\n",
       "      <td>4</td>\n",
       "      <td>1</td>\n",
       "      <td>0</td>\n",
       "      <td>0</td>\n",
       "      <td>0</td>\n",
       "      <td>...</td>\n",
       "      <td>0</td>\n",
       "      <td>1</td>\n",
       "      <td>0</td>\n",
       "      <td>1</td>\n",
       "      <td>0</td>\n",
       "      <td>1</td>\n",
       "      <td>0</td>\n",
       "      <td>1</td>\n",
       "      <td>0</td>\n",
       "      <td>0.56</td>\n",
       "    </tr>\n",
       "    <tr>\n",
       "      <th>1</th>\n",
       "      <td>1084850</td>\n",
       "      <td>20</td>\n",
       "      <td>4</td>\n",
       "      <td>1</td>\n",
       "      <td>0</td>\n",
       "      <td>2</td>\n",
       "      <td>2</td>\n",
       "      <td>0</td>\n",
       "      <td>0</td>\n",
       "      <td>0</td>\n",
       "      <td>...</td>\n",
       "      <td>0</td>\n",
       "      <td>0</td>\n",
       "      <td>0</td>\n",
       "      <td>0</td>\n",
       "      <td>0</td>\n",
       "      <td>0</td>\n",
       "      <td>0</td>\n",
       "      <td>0</td>\n",
       "      <td>0</td>\n",
       "      <td>0.84</td>\n",
       "    </tr>\n",
       "    <tr>\n",
       "      <th>2</th>\n",
       "      <td>644435</td>\n",
       "      <td>28</td>\n",
       "      <td>3</td>\n",
       "      <td>1</td>\n",
       "      <td>0</td>\n",
       "      <td>3</td>\n",
       "      <td>1</td>\n",
       "      <td>0</td>\n",
       "      <td>0</td>\n",
       "      <td>0</td>\n",
       "      <td>...</td>\n",
       "      <td>0</td>\n",
       "      <td>1</td>\n",
       "      <td>0</td>\n",
       "      <td>1</td>\n",
       "      <td>0</td>\n",
       "      <td>0</td>\n",
       "      <td>0</td>\n",
       "      <td>0</td>\n",
       "      <td>0</td>\n",
       "      <td>0.49</td>\n",
       "    </tr>\n",
       "    <tr>\n",
       "      <th>3</th>\n",
       "      <td>57683</td>\n",
       "      <td>78</td>\n",
       "      <td>4</td>\n",
       "      <td>1</td>\n",
       "      <td>0</td>\n",
       "      <td>3</td>\n",
       "      <td>1</td>\n",
       "      <td>0</td>\n",
       "      <td>0</td>\n",
       "      <td>0</td>\n",
       "      <td>...</td>\n",
       "      <td>0</td>\n",
       "      <td>0</td>\n",
       "      <td>0</td>\n",
       "      <td>0</td>\n",
       "      <td>0</td>\n",
       "      <td>0</td>\n",
       "      <td>0</td>\n",
       "      <td>0</td>\n",
       "      <td>0</td>\n",
       "      <td>0.84</td>\n",
       "    </tr>\n",
       "    <tr>\n",
       "      <th>4</th>\n",
       "      <td>167371</td>\n",
       "      <td>68</td>\n",
       "      <td>1</td>\n",
       "      <td>1</td>\n",
       "      <td>0</td>\n",
       "      <td>4</td>\n",
       "      <td>1</td>\n",
       "      <td>0</td>\n",
       "      <td>0</td>\n",
       "      <td>0</td>\n",
       "      <td>...</td>\n",
       "      <td>1</td>\n",
       "      <td>1</td>\n",
       "      <td>1</td>\n",
       "      <td>1</td>\n",
       "      <td>1</td>\n",
       "      <td>1</td>\n",
       "      <td>1</td>\n",
       "      <td>1</td>\n",
       "      <td>1</td>\n",
       "      <td>0.71</td>\n",
       "    </tr>\n",
       "    <tr>\n",
       "      <th>...</th>\n",
       "      <td>...</td>\n",
       "      <td>...</td>\n",
       "      <td>...</td>\n",
       "      <td>...</td>\n",
       "      <td>...</td>\n",
       "      <td>...</td>\n",
       "      <td>...</td>\n",
       "      <td>...</td>\n",
       "      <td>...</td>\n",
       "      <td>...</td>\n",
       "      <td>...</td>\n",
       "      <td>...</td>\n",
       "      <td>...</td>\n",
       "      <td>...</td>\n",
       "      <td>...</td>\n",
       "      <td>...</td>\n",
       "      <td>...</td>\n",
       "      <td>...</td>\n",
       "      <td>...</td>\n",
       "      <td>...</td>\n",
       "      <td>...</td>\n",
       "    </tr>\n",
       "    <tr>\n",
       "      <th>49968</th>\n",
       "      <td>996627</td>\n",
       "      <td>70</td>\n",
       "      <td>2</td>\n",
       "      <td>1</td>\n",
       "      <td>2</td>\n",
       "      <td>2</td>\n",
       "      <td>2</td>\n",
       "      <td>1</td>\n",
       "      <td>1</td>\n",
       "      <td>0</td>\n",
       "      <td>...</td>\n",
       "      <td>1</td>\n",
       "      <td>1</td>\n",
       "      <td>1</td>\n",
       "      <td>1</td>\n",
       "      <td>1</td>\n",
       "      <td>1</td>\n",
       "      <td>1</td>\n",
       "      <td>1</td>\n",
       "      <td>0</td>\n",
       "      <td>0.81</td>\n",
       "    </tr>\n",
       "    <tr>\n",
       "      <th>49969</th>\n",
       "      <td>490677</td>\n",
       "      <td>78</td>\n",
       "      <td>1</td>\n",
       "      <td>2</td>\n",
       "      <td>1</td>\n",
       "      <td>1</td>\n",
       "      <td>1</td>\n",
       "      <td>1</td>\n",
       "      <td>1</td>\n",
       "      <td>1</td>\n",
       "      <td>...</td>\n",
       "      <td>1</td>\n",
       "      <td>1</td>\n",
       "      <td>1</td>\n",
       "      <td>1</td>\n",
       "      <td>1</td>\n",
       "      <td>1</td>\n",
       "      <td>1</td>\n",
       "      <td>1</td>\n",
       "      <td>1</td>\n",
       "      <td>0.66</td>\n",
       "    </tr>\n",
       "    <tr>\n",
       "      <th>49980</th>\n",
       "      <td>1050393</td>\n",
       "      <td>72</td>\n",
       "      <td>2</td>\n",
       "      <td>1</td>\n",
       "      <td>0</td>\n",
       "      <td>2</td>\n",
       "      <td>2</td>\n",
       "      <td>1</td>\n",
       "      <td>1</td>\n",
       "      <td>1</td>\n",
       "      <td>...</td>\n",
       "      <td>1</td>\n",
       "      <td>1</td>\n",
       "      <td>0</td>\n",
       "      <td>1</td>\n",
       "      <td>0</td>\n",
       "      <td>0</td>\n",
       "      <td>0</td>\n",
       "      <td>1</td>\n",
       "      <td>0</td>\n",
       "      <td>0.66</td>\n",
       "    </tr>\n",
       "    <tr>\n",
       "      <th>49981</th>\n",
       "      <td>1090733</td>\n",
       "      <td>72</td>\n",
       "      <td>2</td>\n",
       "      <td>1</td>\n",
       "      <td>2</td>\n",
       "      <td>2</td>\n",
       "      <td>2</td>\n",
       "      <td>1</td>\n",
       "      <td>1</td>\n",
       "      <td>1</td>\n",
       "      <td>...</td>\n",
       "      <td>1</td>\n",
       "      <td>1</td>\n",
       "      <td>1</td>\n",
       "      <td>1</td>\n",
       "      <td>0</td>\n",
       "      <td>1</td>\n",
       "      <td>1</td>\n",
       "      <td>1</td>\n",
       "      <td>1</td>\n",
       "      <td>0.68</td>\n",
       "    </tr>\n",
       "    <tr>\n",
       "      <th>49986</th>\n",
       "      <td>971176</td>\n",
       "      <td>52</td>\n",
       "      <td>2</td>\n",
       "      <td>1</td>\n",
       "      <td>3</td>\n",
       "      <td>2</td>\n",
       "      <td>2</td>\n",
       "      <td>1</td>\n",
       "      <td>1</td>\n",
       "      <td>0</td>\n",
       "      <td>...</td>\n",
       "      <td>1</td>\n",
       "      <td>1</td>\n",
       "      <td>1</td>\n",
       "      <td>1</td>\n",
       "      <td>1</td>\n",
       "      <td>1</td>\n",
       "      <td>1</td>\n",
       "      <td>1</td>\n",
       "      <td>1</td>\n",
       "      <td>0.75</td>\n",
       "    </tr>\n",
       "  </tbody>\n",
       "</table>\n",
       "<p>9374 rows × 23 columns</p>\n",
       "</div>"
      ],
      "text/plain": [
       "       optimus_id  age  party  ethnicity  income  cd  dma  vh14p  vh12g  \\\n",
       "0          861681   69      2          1       3   4    1      0      0   \n",
       "1         1084850   20      4          1       0   2    2      0      0   \n",
       "2          644435   28      3          1       0   3    1      0      0   \n",
       "3           57683   78      4          1       0   3    1      0      0   \n",
       "4          167371   68      1          1       0   4    1      0      0   \n",
       "...           ...  ...    ...        ...     ...  ..  ...    ...    ...   \n",
       "49968      996627   70      2          1       2   2    2      1      1   \n",
       "49969      490677   78      1          2       1   1    1      1      1   \n",
       "49980     1050393   72      2          1       0   2    2      1      1   \n",
       "49981     1090733   72      2          1       2   2    2      1      1   \n",
       "49986      971176   52      2          1       3   2    2      1      1   \n",
       "\n",
       "       vh12p  ...  vh08p  vh06g  vh06p  vh04g  vh04p  vh02g  vh02p  vh00g  \\\n",
       "0          0  ...      0      1      0      1      0      1      0      1   \n",
       "1          0  ...      0      0      0      0      0      0      0      0   \n",
       "2          0  ...      0      1      0      1      0      0      0      0   \n",
       "3          0  ...      0      0      0      0      0      0      0      0   \n",
       "4          0  ...      1      1      1      1      1      1      1      1   \n",
       "...      ...  ...    ...    ...    ...    ...    ...    ...    ...    ...   \n",
       "49968      0  ...      1      1      1      1      1      1      1      1   \n",
       "49969      1  ...      1      1      1      1      1      1      1      1   \n",
       "49980      1  ...      1      1      0      1      0      0      0      1   \n",
       "49981      1  ...      1      1      1      1      0      1      1      1   \n",
       "49986      0  ...      1      1      1      1      1      1      1      1   \n",
       "\n",
       "       vh00p  g08_precinct_turnout  \n",
       "0          0                  0.56  \n",
       "1          0                  0.84  \n",
       "2          0                  0.49  \n",
       "3          0                  0.84  \n",
       "4          1                  0.71  \n",
       "...      ...                   ...  \n",
       "49968      0                  0.81  \n",
       "49969      1                  0.66  \n",
       "49980      0                  0.66  \n",
       "49981      1                  0.68  \n",
       "49986      1                  0.75  \n",
       "\n",
       "[9374 rows x 23 columns]"
      ]
     },
     "execution_count": 9,
     "metadata": {},
     "output_type": "execute_result"
    }
   ],
   "source": [
    "data_mix"
   ]
  },
  {
   "cell_type": "code",
   "execution_count": 10,
   "id": "41c5388e",
   "metadata": {},
   "outputs": [],
   "source": [
    "X = data_mix.drop(\"vh14p\", axis = 1) #X = Independent variables\n",
    "Y = data_mix[\"vh14p\"] #Y = Depebndent variable"
   ]
  },
  {
   "cell_type": "code",
   "execution_count": 11,
   "id": "b308669c",
   "metadata": {},
   "outputs": [
    {
     "data": {
      "text/plain": [
       "((6561, 22), (2813, 22))"
      ]
     },
     "execution_count": 11,
     "metadata": {},
     "output_type": "execute_result"
    }
   ],
   "source": [
    "X_train, X_test, Y_train, Y_test = train_test_split(\n",
    "    X,\n",
    "    Y,\n",
    "    test_size = 0.3,\n",
    "    random_state = 34)\n",
    "\n",
    "X_train.shape, X_test.shape"
   ]
  },
  {
   "cell_type": "markdown",
   "id": "7b72f28f",
   "metadata": {},
   "source": [
    "## Model Predictions"
   ]
  },
  {
   "cell_type": "markdown",
   "id": "768f87bb",
   "metadata": {},
   "source": [
    "### Logistic Regression"
   ]
  },
  {
   "cell_type": "code",
   "execution_count": 12,
   "id": "3cc496e5",
   "metadata": {},
   "outputs": [],
   "source": [
    "#Import the required modules\n",
    "\n",
    "from sklearn.datasets import make_classification\n",
    "from sklearn.linear_model import LogisticRegression\n",
    "from sklearn.metrics import confusion_matrix\n",
    "from sklearn import metrics\n",
    "import pandas as pd"
   ]
  },
  {
   "cell_type": "code",
   "execution_count": 13,
   "id": "b4968628",
   "metadata": {},
   "outputs": [
    {
     "name": "stdout",
     "output_type": "stream",
     "text": [
      "Train Accuracy for Logistic Regression =  55.60128029263832 %\n",
      "Test Accuracy for Logistic Regression =  53.963739779594746 %\n"
     ]
    }
   ],
   "source": [
    "logistic_reg = LogisticRegression()\n",
    "\n",
    "logistic_reg.fit(X_train, Y_train)\n",
    "\n",
    "Y_pred_logistic = logistic_reg.predict(X_test)\n",
    "Y_probab_logistic = logistic_reg.predict_proba(X_test)[:,0]\n",
    "\n",
    "accuracy_train_logistic = logistic_reg.score(X_train, Y_train) * 100\n",
    "accuracy_test_logistic = metrics.accuracy_score(Y_test, Y_pred_logistic) * 100\n",
    "\n",
    "print('Train Accuracy for Logistic Regression = ', accuracy_train_logistic, '%')\n",
    "print('Test Accuracy for Logistic Regression = ', accuracy_test_logistic, '%')"
   ]
  },
  {
   "cell_type": "code",
   "execution_count": 14,
   "id": "6aa6e389",
   "metadata": {},
   "outputs": [
    {
     "name": "stdout",
     "output_type": "stream",
     "text": [
      "[0 1]\n"
     ]
    }
   ],
   "source": [
    "#To see all the unique values in the aray\n",
    "\n",
    "rslt = np.unique(Y_pred_logistic)\n",
    " \n",
    "print(rslt)"
   ]
  },
  {
   "cell_type": "markdown",
   "id": "852c7011",
   "metadata": {},
   "source": [
    "### KNN"
   ]
  },
  {
   "cell_type": "code",
   "execution_count": 15,
   "id": "79c93721",
   "metadata": {},
   "outputs": [],
   "source": [
    "from sklearn.neighbors import KNeighborsClassifier\n",
    "from sklearn.feature_selection import SelectKBest, chi2"
   ]
  },
  {
   "cell_type": "code",
   "execution_count": 16,
   "id": "7e23a920",
   "metadata": {},
   "outputs": [
    {
     "name": "stdout",
     "output_type": "stream",
     "text": [
      "Train Accuracy for KNN =  72.19935985368085 %\n",
      "Test Accuracy for KNN =  57.90970494134376 %\n"
     ]
    }
   ],
   "source": [
    "knn = KNeighborsClassifier()\n",
    "\n",
    "knn.fit(X_train, Y_train)\n",
    "\n",
    "Y_pred_knn = knn.predict(X_test)\n",
    "Y_probab_knn = knn.predict_proba(X_test)[:,0]\n",
    "\n",
    "accuracy_train_knn = knn.score(X_train, Y_train) * 100\n",
    "accuracy_test_knn = metrics.accuracy_score(Y_test, Y_pred_knn) * 100\n",
    "\n",
    "print('Train Accuracy for KNN = ', accuracy_train_knn, '%')\n",
    "print('Test Accuracy for KNN = ', accuracy_test_knn, '%')"
   ]
  },
  {
   "cell_type": "code",
   "execution_count": 17,
   "id": "d0a699cc",
   "metadata": {},
   "outputs": [
    {
     "name": "stdout",
     "output_type": "stream",
     "text": [
      "[0 1]\n"
     ]
    }
   ],
   "source": [
    "#To see all the unique values in the aray\n",
    "\n",
    "rslt = np.unique(Y_pred_knn)\n",
    " \n",
    "print(rslt)"
   ]
  },
  {
   "cell_type": "markdown",
   "id": "30b01e7c",
   "metadata": {},
   "source": [
    "### SVM"
   ]
  },
  {
   "cell_type": "code",
   "execution_count": 18,
   "id": "f521d25f",
   "metadata": {},
   "outputs": [],
   "source": [
    "from sklearn import svm"
   ]
  },
  {
   "cell_type": "code",
   "execution_count": 19,
   "id": "f14a7113",
   "metadata": {},
   "outputs": [
    {
     "name": "stdout",
     "output_type": "stream",
     "text": [
      "Train Accuracy for SVM =  55.90611187319007 %\n",
      "Test Accuracy for SVM =  55.20796302879488 %\n"
     ]
    }
   ],
   "source": [
    "clf_svm = svm.SVC(kernel='rbf' ,probability=True)\n",
    "\n",
    "clf_svm.fit(X_train, Y_train)\n",
    "\n",
    "Y_pred_svm = clf_svm.predict(X_test)\n",
    "Y_probab_svm = clf_svm.predict_proba(X_test)[:,0]\n",
    "\n",
    "accuracy_train_svm = clf_svm.score(X_train, Y_train) * 100\n",
    "accuracy_test_svm = metrics.accuracy_score(Y_test, Y_pred_svm) * 100\n",
    "\n",
    "print('Train Accuracy for SVM = ', accuracy_train_svm, '%')\n",
    "print('Test Accuracy for SVM = ', accuracy_test_svm, '%')"
   ]
  },
  {
   "cell_type": "code",
   "execution_count": 20,
   "id": "3ad529bc",
   "metadata": {},
   "outputs": [
    {
     "name": "stdout",
     "output_type": "stream",
     "text": [
      "[0 1]\n"
     ]
    }
   ],
   "source": [
    "#To see all the unique values in the aray\n",
    "\n",
    "rslt = np.unique(Y_pred_svm)\n",
    " \n",
    "print(rslt)"
   ]
  },
  {
   "cell_type": "markdown",
   "id": "343a9011",
   "metadata": {},
   "source": [
    "### Decision Tree"
   ]
  },
  {
   "cell_type": "code",
   "execution_count": 21,
   "id": "a0c45552",
   "metadata": {},
   "outputs": [],
   "source": [
    "from sklearn.tree import DecisionTreeClassifier"
   ]
  },
  {
   "cell_type": "code",
   "execution_count": 22,
   "id": "2563b16e",
   "metadata": {},
   "outputs": [
    {
     "name": "stdout",
     "output_type": "stream",
     "text": [
      "Train Accuracy for Decision Tree =  100.0 %\n",
      "Test Accuracy for Decision Tree =  82.50977603981514 %\n"
     ]
    }
   ],
   "source": [
    "clf_dc = DecisionTreeClassifier()\n",
    "\n",
    "clf_dc.fit(X_train,Y_train)\n",
    "\n",
    "Y_pred_dc = clf_dc.predict(X_test)\n",
    "Y_probab_dc = clf_dc.predict_proba(X_test)[:,0]\n",
    "\n",
    "accuracy_train_dc = clf_dc.score(X_train, Y_train) * 100\n",
    "accuracy_test_dc = metrics.accuracy_score(Y_test, Y_pred_dc) * 100\n",
    "\n",
    "print('Train Accuracy for Decision Tree = ', accuracy_train_dc, '%')\n",
    "print('Test Accuracy for Decision Tree = ', accuracy_test_dc, '%')"
   ]
  },
  {
   "cell_type": "code",
   "execution_count": 23,
   "id": "fc78357b",
   "metadata": {},
   "outputs": [
    {
     "name": "stdout",
     "output_type": "stream",
     "text": [
      "[0 1]\n"
     ]
    }
   ],
   "source": [
    "#To see all the unique values in the aray\n",
    "\n",
    "rslt = np.unique(Y_pred_dc)\n",
    " \n",
    "print(rslt)"
   ]
  },
  {
   "cell_type": "markdown",
   "id": "4749331f",
   "metadata": {},
   "source": [
    "### Naive Bayes"
   ]
  },
  {
   "cell_type": "code",
   "execution_count": 24,
   "id": "255f33e8",
   "metadata": {},
   "outputs": [],
   "source": [
    "from sklearn.naive_bayes import GaussianNB"
   ]
  },
  {
   "cell_type": "code",
   "execution_count": 25,
   "id": "99c90796",
   "metadata": {},
   "outputs": [
    {
     "name": "stdout",
     "output_type": "stream",
     "text": [
      "Train Accuracy for Naive Bayes =  69.80643194634965 %\n",
      "Test Accuracy for Naive Bayes =  67.47244934233913 %\n"
     ]
    }
   ],
   "source": [
    "clf_nb = GaussianNB()\n",
    "\n",
    "clf_nb.fit(X_train,Y_train)\n",
    "\n",
    "Y_pred_nb = clf_nb.predict(X_test)\n",
    "Y_probab_nb = clf_nb.predict_proba(X_test)[:,0]\n",
    "\n",
    "accuracy_train_nb = clf_nb.score(X_train, Y_train) * 100\n",
    "accuracy_test_nb = metrics.accuracy_score(Y_test, Y_pred_nb) * 100\n",
    "\n",
    "print('Train Accuracy for Naive Bayes = ', accuracy_train_nb, '%')\n",
    "print('Test Accuracy for Naive Bayes = ', accuracy_test_nb, '%')"
   ]
  },
  {
   "cell_type": "code",
   "execution_count": 26,
   "id": "e1a30941",
   "metadata": {},
   "outputs": [
    {
     "name": "stdout",
     "output_type": "stream",
     "text": [
      "[0 1]\n"
     ]
    }
   ],
   "source": [
    "#To see all the unique values in the aray\n",
    "\n",
    "rslt = np.unique(Y_pred_nb)\n",
    " \n",
    "print(rslt)"
   ]
  },
  {
   "cell_type": "code",
   "execution_count": 27,
   "id": "b1216d53",
   "metadata": {},
   "outputs": [
    {
     "data": {
      "text/plain": [
       "array([1, 0, 1, ..., 1, 0, 1])"
      ]
     },
     "execution_count": 27,
     "metadata": {},
     "output_type": "execute_result"
    }
   ],
   "source": [
    "Y_pred_nb"
   ]
  },
  {
   "cell_type": "code",
   "execution_count": 28,
   "id": "4fa8e404",
   "metadata": {},
   "outputs": [
    {
     "data": {
      "text/plain": [
       "array([0.44917672, 0.84155723, 0.43502361, ..., 0.32354495, 0.89972558,\n",
       "       0.26373874])"
      ]
     },
     "execution_count": 28,
     "metadata": {},
     "output_type": "execute_result"
    }
   ],
   "source": [
    "Y_probab_nb"
   ]
  },
  {
   "cell_type": "code",
   "execution_count": 29,
   "id": "e1e2e4ba",
   "metadata": {},
   "outputs": [
    {
     "name": "stdout",
     "output_type": "stream",
     "text": [
      "Algorithm              Train Accuracy %    Test Accuracy %\n",
      "-------------------  ------------------  -----------------\n",
      "Logistic Regression             55.6013            53.9637\n",
      "KNN                             72.1994            57.9097\n",
      "SVM                             55.9061            55.208\n",
      "Decision Tree                  100                 82.5098\n",
      "Naive Bayes                     69.8064            67.4724\n"
     ]
    }
   ],
   "source": [
    "#Table of Train and Test accuracies for all the algorithms\n",
    "\n",
    "table = [['Algorithm', 'Train Accuracy %', 'Test Accuracy %'], ['Logistic Regression', accuracy_train_logistic, accuracy_test_logistic], ['KNN', accuracy_train_knn, accuracy_test_knn], ['SVM', accuracy_train_svm, accuracy_test_svm], ['Decision Tree', accuracy_train_dc, accuracy_test_dc], ['Naive Bayes', accuracy_train_nb, accuracy_test_nb]]\n",
    "\n",
    "print(tabulate(table, headers='firstrow'))"
   ]
  },
  {
   "cell_type": "code",
   "execution_count": 30,
   "id": "c8e7ec52",
   "metadata": {},
   "outputs": [],
   "source": [
    "#Saving it in a pkl file\n",
    "import pickle\n",
    "with open('additional_model.pkl','wb') as f:\n",
    "    pickle.dump(clf_nb, f) #Using Naive Bayes as it gave more accurate results"
   ]
  },
  {
   "cell_type": "code",
   "execution_count": 31,
   "id": "c48727d1",
   "metadata": {},
   "outputs": [],
   "source": [
    "with open('model.pkl', 'rb') as f:\n",
    "    clf2 = pickle.load(f)"
   ]
  },
  {
   "cell_type": "code",
   "execution_count": 32,
   "id": "fa264275",
   "metadata": {},
   "outputs": [],
   "source": [
    "#Performing prediction on the X DataFrame (X = X_train + X_test)\n",
    "\n",
    "Y_pred_new = clf2.predict(X)"
   ]
  },
  {
   "cell_type": "code",
   "execution_count": 33,
   "id": "3dd7a4a4",
   "metadata": {},
   "outputs": [],
   "source": [
    "#Computing predict probability on the X DataFrame (X = X_train + X_test)\n",
    "\n",
    "Y_probab_new = clf2.predict_proba(X)[:,0]"
   ]
  },
  {
   "cell_type": "code",
   "execution_count": 36,
   "id": "3c661080",
   "metadata": {},
   "outputs": [],
   "source": [
    "df_new = data_mix.copy()"
   ]
  },
  {
   "cell_type": "code",
   "execution_count": 37,
   "id": "cb4d6c77",
   "metadata": {},
   "outputs": [],
   "source": [
    "#Appending the 'vote' and 'vote_prob' to the cleaned DataFrame\n",
    "\n",
    "df_new['vote'] = Y_pred_new\n",
    "df_new['vote_prob'] = Y_probab_new"
   ]
  },
  {
   "cell_type": "code",
   "execution_count": 38,
   "id": "572c5c70",
   "metadata": {},
   "outputs": [
    {
     "data": {
      "text/plain": [
       "0    8953\n",
       "1     421\n",
       "Name: vote, dtype: int64"
      ]
     },
     "execution_count": 38,
     "metadata": {},
     "output_type": "execute_result"
    }
   ],
   "source": [
    "df_new.vote.value_counts()\n",
    "#We have now got a better ratio but it is still unbalanced"
   ]
  },
  {
   "cell_type": "code",
   "execution_count": 39,
   "id": "96793134",
   "metadata": {},
   "outputs": [],
   "source": [
    "#Saving the DataFrame as a csv\n",
    "\n",
    "df_new.to_csv('additional_work.csv', index=False)"
   ]
  },
  {
   "cell_type": "code",
   "execution_count": null,
   "id": "3683cebd",
   "metadata": {},
   "outputs": [],
   "source": []
  }
 ],
 "metadata": {
  "kernelspec": {
   "display_name": "Python 3",
   "language": "python",
   "name": "python3"
  },
  "language_info": {
   "codemirror_mode": {
    "name": "ipython",
    "version": 3
   },
   "file_extension": ".py",
   "mimetype": "text/x-python",
   "name": "python",
   "nbconvert_exporter": "python",
   "pygments_lexer": "ipython3",
   "version": "3.8.8"
  }
 },
 "nbformat": 4,
 "nbformat_minor": 5
}
