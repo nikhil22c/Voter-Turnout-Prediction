{
 "cells": [
  {
   "cell_type": "code",
   "execution_count": 1,
   "id": "cb058a92",
   "metadata": {},
   "outputs": [],
   "source": [
    "#imports\n",
    "\n",
    "import pandas as pd\n",
    "import matplotlib.pyplot as plt\n",
    "import seaborn as sns\n",
    "import numpy as np\n",
    "import sklearn\n",
    "from sklearn.preprocessing import StandardScaler\n",
    "from matplotlib.pyplot import figure\n",
    "from sklearn.model_selection import train_test_split\n",
    "from tabulate import tabulate"
   ]
  },
  {
   "cell_type": "code",
   "execution_count": 2,
   "id": "08af7f9e",
   "metadata": {},
   "outputs": [],
   "source": [
    "#Reading csv file into a DataFrame\n",
    "\n",
    "df = pd.read_csv(\"cleaned_data.csv\")"
   ]
  },
  {
   "cell_type": "code",
   "execution_count": 3,
   "id": "78b52949",
   "metadata": {},
   "outputs": [
    {
     "data": {
      "text/html": [
       "<div>\n",
       "<style scoped>\n",
       "    .dataframe tbody tr th:only-of-type {\n",
       "        vertical-align: middle;\n",
       "    }\n",
       "\n",
       "    .dataframe tbody tr th {\n",
       "        vertical-align: top;\n",
       "    }\n",
       "\n",
       "    .dataframe thead th {\n",
       "        text-align: right;\n",
       "    }\n",
       "</style>\n",
       "<table border=\"1\" class=\"dataframe\">\n",
       "  <thead>\n",
       "    <tr style=\"text-align: right;\">\n",
       "      <th></th>\n",
       "      <th>optimus_id</th>\n",
       "      <th>age</th>\n",
       "      <th>party</th>\n",
       "      <th>ethnicity</th>\n",
       "      <th>income</th>\n",
       "      <th>cd</th>\n",
       "      <th>dma</th>\n",
       "      <th>vh14p</th>\n",
       "      <th>vh12g</th>\n",
       "      <th>vh12p</th>\n",
       "      <th>...</th>\n",
       "      <th>vh08p</th>\n",
       "      <th>vh06g</th>\n",
       "      <th>vh06p</th>\n",
       "      <th>vh04g</th>\n",
       "      <th>vh04p</th>\n",
       "      <th>vh02g</th>\n",
       "      <th>vh02p</th>\n",
       "      <th>vh00g</th>\n",
       "      <th>vh00p</th>\n",
       "      <th>g08_precinct_turnout</th>\n",
       "    </tr>\n",
       "  </thead>\n",
       "  <tbody>\n",
       "    <tr>\n",
       "      <th>0</th>\n",
       "      <td>861681</td>\n",
       "      <td>69</td>\n",
       "      <td>2</td>\n",
       "      <td>1</td>\n",
       "      <td>3</td>\n",
       "      <td>4</td>\n",
       "      <td>1</td>\n",
       "      <td>0</td>\n",
       "      <td>0</td>\n",
       "      <td>0</td>\n",
       "      <td>...</td>\n",
       "      <td>0</td>\n",
       "      <td>1</td>\n",
       "      <td>0</td>\n",
       "      <td>1</td>\n",
       "      <td>0</td>\n",
       "      <td>1</td>\n",
       "      <td>0</td>\n",
       "      <td>1</td>\n",
       "      <td>0</td>\n",
       "      <td>0.56</td>\n",
       "    </tr>\n",
       "    <tr>\n",
       "      <th>1</th>\n",
       "      <td>1084850</td>\n",
       "      <td>20</td>\n",
       "      <td>4</td>\n",
       "      <td>1</td>\n",
       "      <td>0</td>\n",
       "      <td>2</td>\n",
       "      <td>2</td>\n",
       "      <td>0</td>\n",
       "      <td>0</td>\n",
       "      <td>0</td>\n",
       "      <td>...</td>\n",
       "      <td>0</td>\n",
       "      <td>0</td>\n",
       "      <td>0</td>\n",
       "      <td>0</td>\n",
       "      <td>0</td>\n",
       "      <td>0</td>\n",
       "      <td>0</td>\n",
       "      <td>0</td>\n",
       "      <td>0</td>\n",
       "      <td>0.84</td>\n",
       "    </tr>\n",
       "    <tr>\n",
       "      <th>2</th>\n",
       "      <td>644435</td>\n",
       "      <td>28</td>\n",
       "      <td>3</td>\n",
       "      <td>1</td>\n",
       "      <td>0</td>\n",
       "      <td>3</td>\n",
       "      <td>1</td>\n",
       "      <td>0</td>\n",
       "      <td>0</td>\n",
       "      <td>0</td>\n",
       "      <td>...</td>\n",
       "      <td>0</td>\n",
       "      <td>1</td>\n",
       "      <td>0</td>\n",
       "      <td>1</td>\n",
       "      <td>0</td>\n",
       "      <td>0</td>\n",
       "      <td>0</td>\n",
       "      <td>0</td>\n",
       "      <td>0</td>\n",
       "      <td>0.49</td>\n",
       "    </tr>\n",
       "    <tr>\n",
       "      <th>3</th>\n",
       "      <td>57683</td>\n",
       "      <td>78</td>\n",
       "      <td>4</td>\n",
       "      <td>1</td>\n",
       "      <td>0</td>\n",
       "      <td>3</td>\n",
       "      <td>1</td>\n",
       "      <td>0</td>\n",
       "      <td>0</td>\n",
       "      <td>0</td>\n",
       "      <td>...</td>\n",
       "      <td>0</td>\n",
       "      <td>0</td>\n",
       "      <td>0</td>\n",
       "      <td>0</td>\n",
       "      <td>0</td>\n",
       "      <td>0</td>\n",
       "      <td>0</td>\n",
       "      <td>0</td>\n",
       "      <td>0</td>\n",
       "      <td>0.84</td>\n",
       "    </tr>\n",
       "    <tr>\n",
       "      <th>4</th>\n",
       "      <td>167371</td>\n",
       "      <td>68</td>\n",
       "      <td>1</td>\n",
       "      <td>1</td>\n",
       "      <td>0</td>\n",
       "      <td>4</td>\n",
       "      <td>1</td>\n",
       "      <td>0</td>\n",
       "      <td>0</td>\n",
       "      <td>0</td>\n",
       "      <td>...</td>\n",
       "      <td>1</td>\n",
       "      <td>1</td>\n",
       "      <td>1</td>\n",
       "      <td>1</td>\n",
       "      <td>1</td>\n",
       "      <td>1</td>\n",
       "      <td>1</td>\n",
       "      <td>1</td>\n",
       "      <td>1</td>\n",
       "      <td>0.71</td>\n",
       "    </tr>\n",
       "  </tbody>\n",
       "</table>\n",
       "<p>5 rows × 23 columns</p>\n",
       "</div>"
      ],
      "text/plain": [
       "   optimus_id  age  party  ethnicity  income  cd  dma  vh14p  vh12g  vh12p  \\\n",
       "0      861681   69      2          1       3   4    1      0      0      0   \n",
       "1     1084850   20      4          1       0   2    2      0      0      0   \n",
       "2      644435   28      3          1       0   3    1      0      0      0   \n",
       "3       57683   78      4          1       0   3    1      0      0      0   \n",
       "4      167371   68      1          1       0   4    1      0      0      0   \n",
       "\n",
       "   ...  vh08p  vh06g  vh06p  vh04g  vh04p  vh02g  vh02p  vh00g  vh00p  \\\n",
       "0  ...      0      1      0      1      0      1      0      1      0   \n",
       "1  ...      0      0      0      0      0      0      0      0      0   \n",
       "2  ...      0      1      0      1      0      0      0      0      0   \n",
       "3  ...      0      0      0      0      0      0      0      0      0   \n",
       "4  ...      1      1      1      1      1      1      1      1      1   \n",
       "\n",
       "   g08_precinct_turnout  \n",
       "0                  0.56  \n",
       "1                  0.84  \n",
       "2                  0.49  \n",
       "3                  0.84  \n",
       "4                  0.71  \n",
       "\n",
       "[5 rows x 23 columns]"
      ]
     },
     "execution_count": 3,
     "metadata": {},
     "output_type": "execute_result"
    }
   ],
   "source": [
    "df.head()"
   ]
  },
  {
   "cell_type": "code",
   "execution_count": 4,
   "id": "565f004e",
   "metadata": {},
   "outputs": [
    {
     "data": {
      "text/plain": [
       "(49995, 23)"
      ]
     },
     "execution_count": 4,
     "metadata": {},
     "output_type": "execute_result"
    }
   ],
   "source": [
    "df.shape"
   ]
  },
  {
   "cell_type": "code",
   "execution_count": 37,
   "id": "e8af37fb",
   "metadata": {},
   "outputs": [
    {
     "data": {
      "text/plain": [
       "0    45621\n",
       "1     4374\n",
       "Name: vh14p, dtype: int64"
      ]
     },
     "execution_count": 37,
     "metadata": {},
     "output_type": "execute_result"
    }
   ],
   "source": [
    "df['vh14p'].value_counts()\n",
    "#We can see that the dependent variable is very unbalanced!"
   ]
  },
  {
   "cell_type": "code",
   "execution_count": 6,
   "id": "1158c92a",
   "metadata": {},
   "outputs": [],
   "source": [
    "X = df.drop(\"vh14p\", axis = 1) #X = Independent variables\n",
    "Y = df[\"vh14p\"] #Y = Dependent variable"
   ]
  },
  {
   "cell_type": "code",
   "execution_count": 7,
   "id": "90fe0aec",
   "metadata": {},
   "outputs": [
    {
     "data": {
      "text/plain": [
       "((34996, 22), (14999, 22))"
      ]
     },
     "execution_count": 7,
     "metadata": {},
     "output_type": "execute_result"
    }
   ],
   "source": [
    "#Splitting train and test data\n",
    "\n",
    "X_train, X_test, Y_train, Y_test = train_test_split(\n",
    "    X,\n",
    "    Y,\n",
    "    test_size = 0.3,\n",
    "    random_state = 0)\n",
    "\n",
    "X_train.shape, X_test.shape"
   ]
  },
  {
   "cell_type": "markdown",
   "id": "31f6c1bd",
   "metadata": {},
   "source": [
    "## Model Predictions"
   ]
  },
  {
   "cell_type": "markdown",
   "id": "8c875e20",
   "metadata": {},
   "source": [
    "### Logistic Regression"
   ]
  },
  {
   "cell_type": "code",
   "execution_count": 8,
   "id": "c410fada",
   "metadata": {},
   "outputs": [],
   "source": [
    "#Import the required modules\n",
    "\n",
    "from sklearn.datasets import make_classification\n",
    "from sklearn.linear_model import LogisticRegression\n",
    "from sklearn.metrics import confusion_matrix\n",
    "from sklearn import metrics\n",
    "import pandas as pd"
   ]
  },
  {
   "cell_type": "code",
   "execution_count": 9,
   "id": "1cffdd70",
   "metadata": {},
   "outputs": [
    {
     "name": "stdout",
     "output_type": "stream",
     "text": [
      "Train Accuracy for Logistic Regression =  91.25042862041376 %\n",
      "Test Accuracy for Logistic Regression =  91.25275018334555 %\n"
     ]
    }
   ],
   "source": [
    "logistic_reg = LogisticRegression()\n",
    "\n",
    "logistic_reg.fit(X_train, Y_train)\n",
    "\n",
    "Y_pred_logistic = logistic_reg.predict(X_test)\n",
    "Y_probab_logistic = logistic_reg.predict_proba(X_test)[:,0]\n",
    "\n",
    "accuracy_train_logistic = logistic_reg.score(X_train, Y_train) * 100\n",
    "accuracy_test_logistic = metrics.accuracy_score(Y_test, Y_pred_logistic) * 100\n",
    "\n",
    "print('Train Accuracy for Logistic Regression = ', accuracy_train_logistic, '%')\n",
    "print('Test Accuracy for Logistic Regression = ', accuracy_test_logistic, '%')"
   ]
  },
  {
   "cell_type": "code",
   "execution_count": 10,
   "id": "ef5bf3ff",
   "metadata": {},
   "outputs": [
    {
     "data": {
      "text/plain": [
       "array([[13687,     0],\n",
       "       [ 1312,     0]])"
      ]
     },
     "execution_count": 10,
     "metadata": {},
     "output_type": "execute_result"
    }
   ],
   "source": [
    "#Confusion Matrix\n",
    "\n",
    "confusion_mat = metrics.confusion_matrix(\n",
    "        y_true = Y_test,\n",
    "        y_pred = Y_pred_logistic)\n",
    "\n",
    "confusion_mat"
   ]
  },
  {
   "cell_type": "code",
   "execution_count": 11,
   "id": "50590c34",
   "metadata": {},
   "outputs": [
    {
     "name": "stdout",
     "output_type": "stream",
     "text": [
      "[0]\n"
     ]
    }
   ],
   "source": [
    "#To see all the unique values in the aray\n",
    "\n",
    "rslt = np.unique(Y_pred_logistic)\n",
    " \n",
    "print(rslt)"
   ]
  },
  {
   "cell_type": "markdown",
   "id": "7486e2fd",
   "metadata": {},
   "source": [
    "### KNN"
   ]
  },
  {
   "cell_type": "code",
   "execution_count": 12,
   "id": "8d5a6e38",
   "metadata": {},
   "outputs": [],
   "source": [
    "from sklearn.neighbors import KNeighborsClassifier\n",
    "from sklearn.feature_selection import SelectKBest, chi2"
   ]
  },
  {
   "cell_type": "code",
   "execution_count": 13,
   "id": "aced0312",
   "metadata": {},
   "outputs": [
    {
     "name": "stdout",
     "output_type": "stream",
     "text": [
      "Train Accuracy for KNN =  91.66190421762487 %\n",
      "Test Accuracy for KNN =  90.49269951330089 %\n"
     ]
    }
   ],
   "source": [
    "knn = KNeighborsClassifier()\n",
    "\n",
    "knn.fit(X_train, Y_train)\n",
    "\n",
    "Y_pred_knn = knn.predict(X_test)\n",
    "Y_probab_knn = knn.predict_proba(X_test)[:,0]\n",
    "\n",
    "accuracy_train_knn = knn.score(X_train, Y_train) * 100\n",
    "accuracy_test_knn = metrics.accuracy_score(Y_test, Y_pred_knn) * 100\n",
    "\n",
    "print('Train Accuracy for KNN = ', accuracy_train_knn, '%')\n",
    "print('Test Accuracy for KNN = ', accuracy_test_knn, '%')"
   ]
  },
  {
   "cell_type": "code",
   "execution_count": 14,
   "id": "f5b3cdd7",
   "metadata": {},
   "outputs": [
    {
     "name": "stdout",
     "output_type": "stream",
     "text": [
      "[0 1]\n"
     ]
    }
   ],
   "source": [
    "#To see all the unique values in the aray\n",
    "\n",
    "rslt = np.unique(Y_pred_knn)\n",
    " \n",
    "print(rslt)"
   ]
  },
  {
   "cell_type": "markdown",
   "id": "dd7b6438",
   "metadata": {},
   "source": [
    "### SVM"
   ]
  },
  {
   "cell_type": "code",
   "execution_count": 15,
   "id": "66a8e5c0",
   "metadata": {},
   "outputs": [],
   "source": [
    "from sklearn import svm"
   ]
  },
  {
   "cell_type": "code",
   "execution_count": 16,
   "id": "6b5192ce",
   "metadata": {},
   "outputs": [
    {
     "name": "stdout",
     "output_type": "stream",
     "text": [
      "Train Accuracy for SVM =  91.25042862041376 %\n",
      "Test Accuracy for SVM =  91.25275018334555 %\n"
     ]
    }
   ],
   "source": [
    "clf_svm = svm.SVC(kernel='rbf' ,probability=True)\n",
    "\n",
    "clf_svm.fit(X_train, Y_train)\n",
    "\n",
    "Y_pred_svm = clf_svm.predict(X_test)\n",
    "Y_probab_svm = clf_svm.predict_proba(X_test)[:,0]\n",
    "\n",
    "accuracy_train_svm = clf_svm.score(X_train, Y_train) * 100\n",
    "accuracy_test_svm = metrics.accuracy_score(Y_test, Y_pred_svm) * 100\n",
    "\n",
    "print('Train Accuracy for SVM = ', accuracy_train_svm, '%')\n",
    "print('Test Accuracy for SVM = ', accuracy_test_svm, '%')"
   ]
  },
  {
   "cell_type": "code",
   "execution_count": 17,
   "id": "0e88e51e",
   "metadata": {},
   "outputs": [
    {
     "name": "stdout",
     "output_type": "stream",
     "text": [
      "[0]\n"
     ]
    }
   ],
   "source": [
    "#To see all the unique values in the aray\n",
    "\n",
    "rslt = np.unique(Y_pred_svm)\n",
    " \n",
    "print(rslt)"
   ]
  },
  {
   "cell_type": "markdown",
   "id": "9393cb66",
   "metadata": {},
   "source": [
    "### Decision Tree"
   ]
  },
  {
   "cell_type": "code",
   "execution_count": 18,
   "id": "1e6f816a",
   "metadata": {},
   "outputs": [],
   "source": [
    "from sklearn.tree import DecisionTreeClassifier"
   ]
  },
  {
   "cell_type": "code",
   "execution_count": 20,
   "id": "6d023526",
   "metadata": {},
   "outputs": [
    {
     "name": "stdout",
     "output_type": "stream",
     "text": [
      "Train Accuracy for Decision Tree =  100.0 %\n",
      "Test Accuracy for Decision Tree =  90.63270884725648 %\n"
     ]
    }
   ],
   "source": [
    "clf_dc = DecisionTreeClassifier()\n",
    "\n",
    "clf_dc.fit(X_train,Y_train)\n",
    "\n",
    "Y_pred_dc = clf_dc.predict(X_test)\n",
    "Y_probab_dc = clf_dc.predict_proba(X_test)[:,0]\n",
    "\n",
    "accuracy_train_dc = clf_dc.score(X_train, Y_train) * 100\n",
    "accuracy_test_dc = metrics.accuracy_score(Y_test, Y_pred_dc) * 100\n",
    "\n",
    "print('Train Accuracy for Decision Tree = ', accuracy_train_dc, '%')\n",
    "print('Test Accuracy for Decision Tree = ', accuracy_test_dc, '%')"
   ]
  },
  {
   "cell_type": "code",
   "execution_count": 21,
   "id": "c9fb00dd",
   "metadata": {},
   "outputs": [
    {
     "name": "stdout",
     "output_type": "stream",
     "text": [
      "[0 1]\n"
     ]
    }
   ],
   "source": [
    "#To see all the unique values in the aray\n",
    "\n",
    "rslt = np.unique(Y_pred_dc)\n",
    " \n",
    "print(rslt)"
   ]
  },
  {
   "cell_type": "markdown",
   "id": "5d12723c",
   "metadata": {},
   "source": [
    "### Naive Bayes"
   ]
  },
  {
   "cell_type": "code",
   "execution_count": 22,
   "id": "d8c68a82",
   "metadata": {},
   "outputs": [],
   "source": [
    "from sklearn.naive_bayes import GaussianNB"
   ]
  },
  {
   "cell_type": "code",
   "execution_count": 25,
   "id": "be283748",
   "metadata": {},
   "outputs": [
    {
     "name": "stdout",
     "output_type": "stream",
     "text": [
      "Train Accuracy for Naive Bayes =  91.25042862041376 %\n",
      "Test Accuracy for Naive Bayes =  91.25275018334555 %\n"
     ]
    }
   ],
   "source": [
    "clf_nb = GaussianNB()\n",
    "\n",
    "clf_nb.fit(X_train,Y_train)\n",
    "\n",
    "Y_pred_nb = clf_nb.predict(X_test)\n",
    "Y_probab_nb = clf_nb.predict_proba(X_test)[:,0]\n",
    "\n",
    "accuracy_train_nb = clf_nb.score(X_train, Y_train) * 100\n",
    "accuracy_test_nb = metrics.accuracy_score(Y_test, Y_pred_nb) * 100\n",
    "\n",
    "print('Train Accuracy for Naive Bayes = ', accuracy_train_nb, '%')\n",
    "print('Test Accuracy for Naive Bayes = ', accuracy_test_nb, '%')"
   ]
  },
  {
   "cell_type": "code",
   "execution_count": 26,
   "id": "ab3368dc",
   "metadata": {},
   "outputs": [
    {
     "name": "stdout",
     "output_type": "stream",
     "text": [
      "[0]\n"
     ]
    }
   ],
   "source": [
    "#To see all the unique values in the aray\n",
    "\n",
    "rslt = np.unique(Y_pred_nb)\n",
    " \n",
    "print(rslt)"
   ]
  },
  {
   "cell_type": "code",
   "execution_count": 27,
   "id": "fa2ca246",
   "metadata": {},
   "outputs": [
    {
     "name": "stdout",
     "output_type": "stream",
     "text": [
      "Algorithm              Train Accuracy %    Test Accuracy %\n",
      "-------------------  ------------------  -----------------\n",
      "Logistic Regression             91.2504            91.2528\n",
      "KNN                             91.6619            90.4927\n",
      "SVM                             91.2504            91.2528\n",
      "Decision Tree                  100                 90.6327\n",
      "Naive Bayes                     91.2504            91.2528\n"
     ]
    }
   ],
   "source": [
    "#Table of Train and Test accuracies for all the algorithms\n",
    "\n",
    "table = [['Algorithm', 'Train Accuracy %', 'Test Accuracy %'], ['Logistic Regression', accuracy_train_logistic, accuracy_test_logistic], ['KNN', accuracy_train_knn, accuracy_test_knn], ['SVM', accuracy_train_svm, accuracy_test_svm], ['Decision Tree', accuracy_train_dc, accuracy_test_dc], ['Naive Bayes', accuracy_train_nb, accuracy_test_nb]]\n",
    "\n",
    "print(tabulate(table, headers='firstrow'))\n"
   ]
  },
  {
   "cell_type": "code",
   "execution_count": 28,
   "id": "28359070",
   "metadata": {},
   "outputs": [],
   "source": [
    "#Saving it in a pkl file\n",
    "import pickle\n",
    "with open('model.pkl','wb') as f:\n",
    "    pickle.dump(knn, f) #Using KNN since rest all algorithms predicted Zero for all the entries and Decision Tree is overfit"
   ]
  },
  {
   "cell_type": "code",
   "execution_count": 29,
   "id": "6e89f056",
   "metadata": {},
   "outputs": [],
   "source": [
    "with open('model.pkl', 'rb') as f:\n",
    "    clf2 = pickle.load(f)"
   ]
  },
  {
   "cell_type": "code",
   "execution_count": 30,
   "id": "be5527e0",
   "metadata": {},
   "outputs": [],
   "source": [
    "#Performing prediction on the X DataFrame (X = X_train + X_test)\n",
    "\n",
    "Y_pred_new = clf2.predict(X)"
   ]
  },
  {
   "cell_type": "code",
   "execution_count": 31,
   "id": "aaf82b61",
   "metadata": {},
   "outputs": [],
   "source": [
    "#Computing predict probability on the X DataFrame (X = X_train + X_test)\n",
    "\n",
    "Y_probab_new = clf2.predict_proba(X)[:,0]"
   ]
  },
  {
   "cell_type": "code",
   "execution_count": 32,
   "id": "aac1293e",
   "metadata": {},
   "outputs": [],
   "source": [
    "df_new = df.copy()"
   ]
  },
  {
   "cell_type": "code",
   "execution_count": 33,
   "id": "a97d8698",
   "metadata": {},
   "outputs": [],
   "source": [
    "#Appending the 'vote' and 'vote_prob' to the cleaned DataFrame\n",
    "\n",
    "df_new['vote'] = Y_pred_new\n",
    "df_new['vote_prob'] = Y_probab_new"
   ]
  },
  {
   "cell_type": "code",
   "execution_count": 34,
   "id": "3482559a",
   "metadata": {},
   "outputs": [
    {
     "data": {
      "text/html": [
       "<div>\n",
       "<style scoped>\n",
       "    .dataframe tbody tr th:only-of-type {\n",
       "        vertical-align: middle;\n",
       "    }\n",
       "\n",
       "    .dataframe tbody tr th {\n",
       "        vertical-align: top;\n",
       "    }\n",
       "\n",
       "    .dataframe thead th {\n",
       "        text-align: right;\n",
       "    }\n",
       "</style>\n",
       "<table border=\"1\" class=\"dataframe\">\n",
       "  <thead>\n",
       "    <tr style=\"text-align: right;\">\n",
       "      <th></th>\n",
       "      <th>optimus_id</th>\n",
       "      <th>age</th>\n",
       "      <th>party</th>\n",
       "      <th>ethnicity</th>\n",
       "      <th>income</th>\n",
       "      <th>cd</th>\n",
       "      <th>dma</th>\n",
       "      <th>vh14p</th>\n",
       "      <th>vh12g</th>\n",
       "      <th>vh12p</th>\n",
       "      <th>...</th>\n",
       "      <th>vh06p</th>\n",
       "      <th>vh04g</th>\n",
       "      <th>vh04p</th>\n",
       "      <th>vh02g</th>\n",
       "      <th>vh02p</th>\n",
       "      <th>vh00g</th>\n",
       "      <th>vh00p</th>\n",
       "      <th>g08_precinct_turnout</th>\n",
       "      <th>vote</th>\n",
       "      <th>vote_prob</th>\n",
       "    </tr>\n",
       "  </thead>\n",
       "  <tbody>\n",
       "    <tr>\n",
       "      <th>0</th>\n",
       "      <td>861681</td>\n",
       "      <td>69</td>\n",
       "      <td>2</td>\n",
       "      <td>1</td>\n",
       "      <td>3</td>\n",
       "      <td>4</td>\n",
       "      <td>1</td>\n",
       "      <td>0</td>\n",
       "      <td>0</td>\n",
       "      <td>0</td>\n",
       "      <td>...</td>\n",
       "      <td>0</td>\n",
       "      <td>1</td>\n",
       "      <td>0</td>\n",
       "      <td>1</td>\n",
       "      <td>0</td>\n",
       "      <td>1</td>\n",
       "      <td>0</td>\n",
       "      <td>0.56</td>\n",
       "      <td>0</td>\n",
       "      <td>1.0</td>\n",
       "    </tr>\n",
       "    <tr>\n",
       "      <th>1</th>\n",
       "      <td>1084850</td>\n",
       "      <td>20</td>\n",
       "      <td>4</td>\n",
       "      <td>1</td>\n",
       "      <td>0</td>\n",
       "      <td>2</td>\n",
       "      <td>2</td>\n",
       "      <td>0</td>\n",
       "      <td>0</td>\n",
       "      <td>0</td>\n",
       "      <td>...</td>\n",
       "      <td>0</td>\n",
       "      <td>0</td>\n",
       "      <td>0</td>\n",
       "      <td>0</td>\n",
       "      <td>0</td>\n",
       "      <td>0</td>\n",
       "      <td>0</td>\n",
       "      <td>0.84</td>\n",
       "      <td>0</td>\n",
       "      <td>0.6</td>\n",
       "    </tr>\n",
       "    <tr>\n",
       "      <th>2</th>\n",
       "      <td>644435</td>\n",
       "      <td>28</td>\n",
       "      <td>3</td>\n",
       "      <td>1</td>\n",
       "      <td>0</td>\n",
       "      <td>3</td>\n",
       "      <td>1</td>\n",
       "      <td>0</td>\n",
       "      <td>0</td>\n",
       "      <td>0</td>\n",
       "      <td>...</td>\n",
       "      <td>0</td>\n",
       "      <td>1</td>\n",
       "      <td>0</td>\n",
       "      <td>0</td>\n",
       "      <td>0</td>\n",
       "      <td>0</td>\n",
       "      <td>0</td>\n",
       "      <td>0.49</td>\n",
       "      <td>0</td>\n",
       "      <td>1.0</td>\n",
       "    </tr>\n",
       "    <tr>\n",
       "      <th>3</th>\n",
       "      <td>57683</td>\n",
       "      <td>78</td>\n",
       "      <td>4</td>\n",
       "      <td>1</td>\n",
       "      <td>0</td>\n",
       "      <td>3</td>\n",
       "      <td>1</td>\n",
       "      <td>0</td>\n",
       "      <td>0</td>\n",
       "      <td>0</td>\n",
       "      <td>...</td>\n",
       "      <td>0</td>\n",
       "      <td>0</td>\n",
       "      <td>0</td>\n",
       "      <td>0</td>\n",
       "      <td>0</td>\n",
       "      <td>0</td>\n",
       "      <td>0</td>\n",
       "      <td>0.84</td>\n",
       "      <td>0</td>\n",
       "      <td>0.8</td>\n",
       "    </tr>\n",
       "    <tr>\n",
       "      <th>4</th>\n",
       "      <td>167371</td>\n",
       "      <td>68</td>\n",
       "      <td>1</td>\n",
       "      <td>1</td>\n",
       "      <td>0</td>\n",
       "      <td>4</td>\n",
       "      <td>1</td>\n",
       "      <td>0</td>\n",
       "      <td>0</td>\n",
       "      <td>0</td>\n",
       "      <td>...</td>\n",
       "      <td>1</td>\n",
       "      <td>1</td>\n",
       "      <td>1</td>\n",
       "      <td>1</td>\n",
       "      <td>1</td>\n",
       "      <td>1</td>\n",
       "      <td>1</td>\n",
       "      <td>0.71</td>\n",
       "      <td>0</td>\n",
       "      <td>0.8</td>\n",
       "    </tr>\n",
       "  </tbody>\n",
       "</table>\n",
       "<p>5 rows × 25 columns</p>\n",
       "</div>"
      ],
      "text/plain": [
       "   optimus_id  age  party  ethnicity  income  cd  dma  vh14p  vh12g  vh12p  \\\n",
       "0      861681   69      2          1       3   4    1      0      0      0   \n",
       "1     1084850   20      4          1       0   2    2      0      0      0   \n",
       "2      644435   28      3          1       0   3    1      0      0      0   \n",
       "3       57683   78      4          1       0   3    1      0      0      0   \n",
       "4      167371   68      1          1       0   4    1      0      0      0   \n",
       "\n",
       "   ...  vh06p  vh04g  vh04p  vh02g  vh02p  vh00g  vh00p  g08_precinct_turnout  \\\n",
       "0  ...      0      1      0      1      0      1      0                  0.56   \n",
       "1  ...      0      0      0      0      0      0      0                  0.84   \n",
       "2  ...      0      1      0      0      0      0      0                  0.49   \n",
       "3  ...      0      0      0      0      0      0      0                  0.84   \n",
       "4  ...      1      1      1      1      1      1      1                  0.71   \n",
       "\n",
       "   vote  vote_prob  \n",
       "0     0        1.0  \n",
       "1     0        0.6  \n",
       "2     0        1.0  \n",
       "3     0        0.8  \n",
       "4     0        0.8  \n",
       "\n",
       "[5 rows x 25 columns]"
      ]
     },
     "execution_count": 34,
     "metadata": {},
     "output_type": "execute_result"
    }
   ],
   "source": [
    "df_new.head()"
   ]
  },
  {
   "cell_type": "code",
   "execution_count": 35,
   "id": "a5db5ae7",
   "metadata": {},
   "outputs": [
    {
     "data": {
      "text/plain": [
       "0    49257\n",
       "1      738\n",
       "Name: vote, dtype: int64"
      ]
     },
     "execution_count": 35,
     "metadata": {},
     "output_type": "execute_result"
    }
   ],
   "source": [
    "df_new.vote.value_counts()\n",
    "#We can see that the results are very unbalanced!"
   ]
  },
  {
   "cell_type": "code",
   "execution_count": 36,
   "id": "826a3c70",
   "metadata": {},
   "outputs": [],
   "source": [
    "#Saving the DataFrame as a csv\n",
    "\n",
    "df_new.to_csv('final_results.csv', index=False)"
   ]
  }
 ],
 "metadata": {
  "kernelspec": {
   "display_name": "Python 3",
   "language": "python",
   "name": "python3"
  },
  "language_info": {
   "codemirror_mode": {
    "name": "ipython",
    "version": 3
   },
   "file_extension": ".py",
   "mimetype": "text/x-python",
   "name": "python",
   "nbconvert_exporter": "python",
   "pygments_lexer": "ipython3",
   "version": "3.8.8"
  }
 },
 "nbformat": 4,
 "nbformat_minor": 5
}
